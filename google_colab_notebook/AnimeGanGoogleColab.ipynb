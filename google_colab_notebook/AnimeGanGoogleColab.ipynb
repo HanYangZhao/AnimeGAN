{
  "nbformat": 4,
  "nbformat_minor": 0,
  "metadata": {
    "colab": {
      "name": "AnimeGanGoogleColab.ipynb",
      "provenance": []
    },
    "kernelspec": {
      "name": "python3",
      "display_name": "Python 3"
    },
    "accelerator": "GPU"
  },
  "cells": [
    {
      "cell_type": "markdown",
      "metadata": {
        "id": "3QhkRpY844Ot",
        "colab_type": "text"
      },
      "source": [
        "Change runtime to GPU before doing anything else\n"
      ]
    },
    {
      "cell_type": "code",
      "metadata": {
        "id": "w7gj2sJiMfut",
        "colab_type": "code",
        "colab": {}
      },
      "source": [
        "!git clone https://github.com/Quentin-M/AnimeGAN.git"
      ],
      "execution_count": 0,
      "outputs": []
    },
    {
      "cell_type": "code",
      "metadata": {
        "id": "oC1lPXW7MyjA",
        "colab_type": "code",
        "outputId": "944a001d-1341-4049-92d0-28bf2cb706d8",
        "colab": {
          "base_uri": "https://localhost:8080/",
          "height": 34
        }
      },
      "source": [
        "import os\n",
        "os.chdir('AnimeGAN')\n",
        "print(os.getcwd())"
      ],
      "execution_count": 2,
      "outputs": [
        {
          "output_type": "stream",
          "text": [
            "/content/AnimeGAN\n"
          ],
          "name": "stdout"
        }
      ]
    },
    {
      "cell_type": "markdown",
      "metadata": {
        "id": "L1JOQ4Dw37YR",
        "colab_type": "text"
      },
      "source": [
        "create a new file called ```download_asset.sh``` in  AnimeGan folder and add the following\n",
        "\n",
        "``` \n",
        "checkpoint=\"$1\"\n",
        "\n",
        "if [ \"$checkpoint\" = \"initial\" ]; then\n",
        "\tURL=https://github.com/TachibanaYoshino/AnimeGAN/releases/download/Haoyao-style_V1.0/Haoyao-style-initial-checkpoint.zip\n",
        "else\n",
        "\tURL=https://github.com/TachibanaYoshino/AnimeGAN/releases/download/Haoyao-style_V1.0/Haoyao-style.zip\n",
        "fi\n",
        "ZIP_FILE=./checkpoint/Haoyao-style.zip\n",
        "TARGET_DIR=./checkpoint/AnimeGAN_Hayao_lsgan_300_300_1_3_10\n",
        "wget -N $URL -O $ZIP_FILE\n",
        "mkdir -p $TARGET_DIR\n",
        "unzip $ZIP_FILE -d $TARGET_DIR\n",
        "rm $ZIP_FILE\n",
        "DatesetURL=https://github.com/TachibanaYoshino/AnimeGAN/releases/download/dataset-1/dataset.zip\n",
        "ZIP_FILE=./dataset.zip\n",
        "TARGET_DIR=./dataset\n",
        "rm -rf dataset\n",
        "wget -N $DatesetURL -O $ZIP_FILE\n",
        "unzip $ZIP_FILE -d $TARGET_DIR\n",
        "rm $ZIP_FILE\n",
        "VGG_FILE=./vgg19_weight/vgg19.npy\n",
        "VGG_URL=https://github.com/TachibanaYoshino/AnimeGAN/releases/download/vgg16%2F19.npy/vgg19.npy\n",
        "wget -N $VGG_URL -O $VGG_FILE \n",
        "```"
      ]
    },
    {
      "cell_type": "markdown",
      "metadata": {
        "id": "ru8I1Hn1SFdW",
        "colab_type": "text"
      },
      "source": [
        "##Download assset\n",
        "\n",
        "Do ``` !bash download_asset.sh initial ``` if you want the inital checkpoint, ``` !bash download_asset.sh ``` for the pretrained hayao model"
      ]
    },
    {
      "cell_type": "code",
      "metadata": {
        "id": "mOIinjNRM3dn",
        "colab_type": "code",
        "colab": {}
      },
      "source": [
        "!bash download_asset.sh\n"
      ],
      "execution_count": 0,
      "outputs": []
    },
    {
      "cell_type": "markdown",
      "metadata": {
        "id": "CQC8fU0BUhjB",
        "colab_type": "text"
      },
      "source": [
        "Check if you have 8GB or 16GB of VRAM"
      ]
    },
    {
      "cell_type": "code",
      "metadata": {
        "id": "gLvKDXdTjBqg",
        "colab_type": "code",
        "colab": {
          "base_uri": "https://localhost:8080/",
          "height": 302
        },
        "outputId": "0ae7810c-fe64-4f54-82a3-b7e75f385cab"
      },
      "source": [
        "!nvidia-smi\n"
      ],
      "execution_count": 4,
      "outputs": [
        {
          "output_type": "stream",
          "text": [
            "Fri May  8 03:27:41 2020       \n",
            "+-----------------------------------------------------------------------------+\n",
            "| NVIDIA-SMI 440.82       Driver Version: 418.67       CUDA Version: 10.1     |\n",
            "|-------------------------------+----------------------+----------------------+\n",
            "| GPU  Name        Persistence-M| Bus-Id        Disp.A | Volatile Uncorr. ECC |\n",
            "| Fan  Temp  Perf  Pwr:Usage/Cap|         Memory-Usage | GPU-Util  Compute M. |\n",
            "|===============================+======================+======================|\n",
            "|   0  Tesla T4            Off  | 00000000:00:04.0 Off |                    0 |\n",
            "| N/A   45C    P8    10W /  70W |      0MiB / 15079MiB |      0%      Default |\n",
            "+-------------------------------+----------------------+----------------------+\n",
            "                                                                               \n",
            "+-----------------------------------------------------------------------------+\n",
            "| Processes:                                                       GPU Memory |\n",
            "|  GPU       PID   Type   Process name                             Usage      |\n",
            "|=============================================================================|\n",
            "|  No running processes found                                                 |\n",
            "+-----------------------------------------------------------------------------+\n"
          ],
          "name": "stdout"
        }
      ]
    },
    {
      "cell_type": "markdown",
      "metadata": {
        "id": "6cT3l_1nU8AX",
        "colab_type": "text"
      },
      "source": [
        "Install tensorflow 1.15"
      ]
    },
    {
      "cell_type": "code",
      "metadata": {
        "id": "rJTghwMijG_g",
        "colab_type": "code",
        "colab": {}
      },
      "source": [
        "!pip install tensorflow-gpu==1.15"
      ],
      "execution_count": 0,
      "outputs": []
    },
    {
      "cell_type": "markdown",
      "metadata": {
        "id": "_z8JjGhx4IHC",
        "colab_type": "text"
      },
      "source": [
        "## Test \n",
        "\n",
        "eg. `python main.py --phase test --dataset Hayao`  \n",
        "  or `python test.py --checkpoint_dir checkpoint/AnimeGAN_Hayao_lsgan_300_300_1_3_10 --test_dir dataset/test/real --style_name H`  \n",
        "\n",
        "To test on your own photos,  upload your own directory under AnimeGan  and replace ```--test_dir``` with you own directory, output will be stored in ```results```"
      ]
    },
    {
      "cell_type": "code",
      "metadata": {
        "id": "KOGGCC--jgEZ",
        "colab_type": "code",
        "colab": {}
      },
      "source": [
        "!python main.py --phase test --dataset Hayao\n"
      ],
      "execution_count": 0,
      "outputs": []
    },
    {
      "cell_type": "markdown",
      "metadata": {
        "id": "GK7uXSp03hcE",
        "colab_type": "text"
      },
      "source": [
        "Rename \n",
        "\n",
        "```\n",
        "AnimeGAN_Hayao_lsgan_300_300_1_3_10\n",
        "to\n",
        "old_AnimeGAN_Hayao_lsgan_300_300_1_3_10\n",
        "```\n",
        "\n",
        "in the checkpoint folder so we can train from sractch"
      ]
    },
    {
      "cell_type": "markdown",
      "metadata": {
        "id": "cEM5SSXD5D4_",
        "colab_type": "text"
      },
      "source": [
        "## Train\n",
        "\n",
        "In ```main.py``` :\n",
        "```batch size``` can be changed to 8 , if you have 16GB of VRAM\n",
        "\n",
        "For Shinkai, ```con_weight``` should be set to 1.1\n"
      ]
    },
    {
      "cell_type": "code",
      "metadata": {
        "id": "adpOe9c6kWWh",
        "colab_type": "code",
        "colab": {}
      },
      "source": [
        " !python main.py --phase train --dataset Shinkai --epoch 101 --init_epoch 1"
      ],
      "execution_count": 0,
      "outputs": []
    }
  ]
}